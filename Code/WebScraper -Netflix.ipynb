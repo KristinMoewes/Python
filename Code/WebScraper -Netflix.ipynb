{
 "cells": [
  {
   "cell_type": "code",
   "execution_count": null,
   "metadata": {},
   "outputs": [],
   "source": [
    "import urllib.request\t\t#pip install concat(\"urllib\", number of current version)\n",
    "\n",
    "my_request = urllib.request.urlopen(\"https://www.netflix.com/\")\n",
    "\n",
    "my_HTML = my_request.read().decode(\"utf8\").split('\\n')\n",
    "\n",
    "print(my_HTML)"
   ]
  },
  {
   "cell_type": "code",
   "execution_count": 52,
   "metadata": {},
   "outputs": [
    {
     "ename": "SyntaxError",
     "evalue": "invalid syntax (Temp/ipykernel_14304/1565657480.py, line 2)",
     "output_type": "error",
     "traceback": [
      "\u001b[1;36m  File \u001b[1;32m\"C:\\Users\\KRISTI~1\\AppData\\Local\\Temp/ipykernel_14304/1565657480.py\"\u001b[1;36m, line \u001b[1;32m2\u001b[0m\n\u001b[1;33m    from bs4 import BeautifulSoup import requests\u001b[0m\n\u001b[1;37m                                  ^\u001b[0m\n\u001b[1;31mSyntaxError\u001b[0m\u001b[1;31m:\u001b[0m invalid syntax\n"
     ]
    }
   ],
   "source": [
    "import urllib.request \n",
    "from bs4 \n",
    "import BeautifulSoup \n",
    "import requests \n",
    "\n",
    "url = \"https://play.google.com/store/apps/details?id=com.fluffyfairygames.idleminertycoon&gl=DE&showAllReviews=true\"\n",
    "response = requests.get(url)\n",
    "soup = BeautifulSoup(response.content, html5lib)\n",
    "spans = soup.find_all('span', \"ENTER_Css_CLASS_HERE\")\n",
    "for span in spans:\n",
    "   print(span.text)"
   ]
  },
  {
   "cell_type": "code",
   "execution_count": 51,
   "metadata": {},
   "outputs": [],
   "source": [
    "from urllib.request import urlopen\n",
    "from bs4 import BeautifulSoup\n",
    "\n",
    "url = \"https://play.google.com/store/apps/details?id=com.fluffyfairygames.idleminertycoon&gl=DE&showAllReviews=true\"\n",
    "html = urlopen(url)\n",
    "soup = BeautifulSoup(html, 'html.parser')\n",
    "\n",
    "review_text= soup.find('div', attrs={'class':'fk8dgd'})\n",
    "for text in soup('span',{'jsname':'bN97Pc'}):\n",
    "    print(text)\n",
    "\n",
    "#review_text= soup.span['jsname']\n",
    "\n",
    "\n"
   ]
  },
  {
   "cell_type": "code",
   "execution_count": 49,
   "metadata": {},
   "outputs": [],
   "source": [
    "from urllib.request import urlopen\n",
    "from bs4 import BeautifulSoup\n",
    "\n",
    "def main():\n",
    "    # ...\n",
    "  \n",
    "        url = f'https://play.google.com/store/apps/details?id=com.fluffyfairygames.idleminertycoon&gl=DE&showAllReviews=true'\n",
    "        print(url)\n",
    "        with urlopen(url) as response:\n",
    "            html = response.read()\n",
    "\n",
    "        review_text= soup.find('div', attrs={'class':'fk8dgd'})\n",
    "        for text in soup('span',{'jsname':'bN97Pc'}):\n",
    "             print(text)\n",
    "\n",
    "\n",
    "#if __name__ == '__main__':\n",
    "   # main()"
   ]
  },
  {
   "cell_type": "code",
   "execution_count": 54,
   "metadata": {},
   "outputs": [
    {
     "name": "stdout",
     "output_type": "stream",
     "text": [
      "None\n"
     ]
    }
   ],
   "source": [
    "from urllib.request import urlopen\n",
    "from bs4 import BeautifulSoup\n",
    "\n",
    "url = \"https://play.google.com/store/apps/details?id=com.fluffyfairygames.idleminertycoon&gl=DE&showAllReviews=true\"\n",
    "html = urlopen(url)\n",
    "soup = BeautifulSoup(html, 'html.parser')\n",
    "\n",
    "review_text= soup.find('div', {'class':'d15Mdf bAhLNe'})\n",
    "print(review_text)\n",
    "\n",
    "\n",
    "hellooooo worldddd\n"
   ]
  },
  {
   "cell_type": "markdown",
   "metadata": {},
   "source": [
    "# test\n",
    "test"
   ]
  }
 ],
 "metadata": {
  "interpreter": {
   "hash": "f197955064c0845eafe0aea55f6aea45cff2c9a0ce3d20c408f685280f730e4a"
  },
  "kernelspec": {
   "display_name": "Python 3.10.0 64-bit ('env': venv)",
   "language": "python",
   "name": "python3"
  },
  "language_info": {
   "codemirror_mode": {
    "name": "ipython",
    "version": 3
   },
   "file_extension": ".py",
   "mimetype": "text/x-python",
   "name": "python",
   "nbconvert_exporter": "python",
   "pygments_lexer": "ipython3",
   "version": "3.10.0"
  },
  "orig_nbformat": 4
 },
 "nbformat": 4,
 "nbformat_minor": 2
}
