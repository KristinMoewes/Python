{
 "cells": [
  {
   "cell_type": "code",
   "execution_count": null,
   "metadata": {},
   "outputs": [],
   "source": [
    "import urllib.request\t\t#pip install concat(\"urllib\", number of current version)\n",
    "\n",
    "my_request = urllib.request.urlopen(\"https://www.netflix.com/\")\n",
    "\n",
    "my_HTML = my_request.read().decode(\"utf8\").split(\"\\n\")\n",
    "\n",
    "print(my_HTML)"
   ]
  },
  {
   "cell_type": "code",
   "execution_count": 52,
   "metadata": {},
   "outputs": [
    {
     "ename": "SyntaxError",
     "evalue": "invalid syntax (Temp/ipykernel_14304/1565657480.py, line 2)",
     "output_type": "error",
     "traceback": [
      "\u001b[1;36m  File \u001b[1;32m\"C:\\Users\\KRISTI~1\\AppData\\Local\\Temp/ipykernel_14304/1565657480.py\"\u001b[1;36m, line \u001b[1;32m2\u001b[0m\n\u001b[1;33m    from bs4 import BeautifulSoup import requests\u001b[0m\n\u001b[1;37m                                  ^\u001b[0m\n\u001b[1;31mSyntaxError\u001b[0m\u001b[1;31m:\u001b[0m invalid syntax\n"
     ]
    }
   ],
   "source": [
    "import urllib.request \n",
    "from bs4 \n",
    "import BeautifulSoup \n",
    "import requests \n",
    "\n",
    "url = \"https://play.google.com/store/apps/details?id=com.fluffyfairygames.idleminertycoon&gl=DE&showAllReviews=true\"\n",
    "response = requests.get(url)\n",
    "soup = BeautifulSoup(response.content, html5lib)\n",
    "spans = soup.find_all(\"span\", \"ENTER_Css_CLASS_HERE\")\n",
    "for span in spans:\n",
    "   print(span.text)"
   ]
  },
  {
   "cell_type": "code",
   "execution_count": 5,
   "metadata": {},
   "outputs": [
    {
     "ename": "TypeError",
     "evalue": "'NoneType' object is not iterable",
     "output_type": "error",
     "traceback": [
      "\u001b[1;31m---------------------------------------------------------------------------\u001b[0m",
      "\u001b[1;31mTypeError\u001b[0m                                 Traceback (most recent call last)",
      "\u001b[1;32mC:\\Users\\KRISTI~1\\AppData\\Local\\Temp/ipykernel_11536/4064103462.py\u001b[0m in \u001b[0;36m<module>\u001b[1;34m\u001b[0m\n\u001b[0;32m      7\u001b[0m \u001b[1;33m\u001b[0m\u001b[0m\n\u001b[0;32m      8\u001b[0m \u001b[0mreview_text\u001b[0m\u001b[1;33m=\u001b[0m \u001b[0msoup\u001b[0m\u001b[1;33m.\u001b[0m\u001b[0mfind\u001b[0m\u001b[1;33m(\u001b[0m\u001b[1;34m\"div\"\u001b[0m\u001b[1;33m,\u001b[0m \u001b[0mattrs\u001b[0m\u001b[1;33m=\u001b[0m\u001b[1;33m{\u001b[0m\u001b[1;34m\"jsname\"\u001b[0m\u001b[1;33m:\u001b[0m\u001b[1;34m\"fk8dgd\"\u001b[0m\u001b[1;33m}\u001b[0m\u001b[1;33m)\u001b[0m\u001b[1;33m\u001b[0m\u001b[1;33m\u001b[0m\u001b[0m\n\u001b[1;32m----> 9\u001b[1;33m \u001b[1;32mfor\u001b[0m \u001b[0mtext\u001b[0m \u001b[1;32min\u001b[0m \u001b[0msoup\u001b[0m\u001b[1;33m.\u001b[0m\u001b[0mfind\u001b[0m\u001b[1;33m(\u001b[0m\u001b[1;34m\"span\"\u001b[0m\u001b[1;33m,\u001b[0m\u001b[1;33m{\u001b[0m\u001b[1;34m\"jsname\"\u001b[0m\u001b[1;33m:\u001b[0m\u001b[1;34m\"bN97Pc\"\u001b[0m\u001b[1;33m}\u001b[0m\u001b[1;33m)\u001b[0m\u001b[1;33m:\u001b[0m\u001b[1;33m\u001b[0m\u001b[1;33m\u001b[0m\u001b[0m\n\u001b[0m\u001b[0;32m     10\u001b[0m     \u001b[0mprint\u001b[0m\u001b[1;33m(\u001b[0m\u001b[0mtext\u001b[0m\u001b[1;33m)\u001b[0m\u001b[1;33m\u001b[0m\u001b[1;33m\u001b[0m\u001b[0m\n\u001b[0;32m     11\u001b[0m \u001b[0mprint\u001b[0m \u001b[1;33m(\u001b[0m\u001b[0mhtml\u001b[0m\u001b[1;33m)\u001b[0m\u001b[1;33m\u001b[0m\u001b[1;33m\u001b[0m\u001b[0m\n",
      "\u001b[1;31mTypeError\u001b[0m: 'NoneType' object is not iterable"
     ]
    }
   ],
   "source": [
    "from urllib.request import urlopen\n",
    "from bs4 import BeautifulSoup\n",
    "\n",
    "url = \"https://play.google.com/store/apps/details?id=com.fluffyfairygames.idleminertycoon&gl=DE&showAllReviews=true\"\n",
    "html = urlopen(url)\n",
    "soup = BeautifulSoup(html, \"html.parser\")\n",
    "\n",
    "review_text= soup.find(\"div\", attrs={\"jsname\":\"fk8dgd\"})\n",
    "for text in soup.find(\"span\",{\"jsname\":\"bN97Pc\"}):\n",
    "    print(text)\n",
    "print (html)\n",
    "#review_text= soup.span[\"jsname\"]\n",
    "\n",
    "\n"
   ]
  },
  {
   "cell_type": "code",
   "execution_count": 49,
   "metadata": {},
   "outputs": [],
   "source": [
    "from urllib.request import urlopen\n",
    "from bs4 import BeautifulSoup\n",
    "\n",
    "def main():\n",
    "    # ...\n",
    "  \n",
    "        url = f\"https://play.google.com/store/apps/details?id=com.fluffyfairygames.idleminertycoon&gl=DE&showAllReviews=true\"\n",
    "        print(url)\n",
    "        with urlopen(url) as response:\n",
    "            html = response.read()\n",
    "\n",
    "        review_text= soup.find(\"div\", attrs={\"class\":\"fk8dgd\"})\n",
    "        for text in soup(\"span\",{\"jsname\":\"bN97Pc\"}):\n",
    "             print(text)\n",
    "\n",
    "\n",
    "#if __name__ == \"__main__\":\n",
    "   # main()"
   ]
  },
  {
   "cell_type": "code",
   "execution_count": 33,
   "metadata": {},
   "outputs": [
    {
     "ename": "TypeError",
     "evalue": "find() takes no keyword arguments",
     "output_type": "error",
     "traceback": [
      "\u001b[1;31m---------------------------------------------------------------------------\u001b[0m",
      "\u001b[1;31mTypeError\u001b[0m                                 Traceback (most recent call last)",
      "\u001b[1;32mC:\\Users\\KRISTI~1\\AppData\\Local\\Temp/ipykernel_17740/2725772707.py\u001b[0m in \u001b[0;36m<module>\u001b[1;34m\u001b[0m\n\u001b[0;32m     27\u001b[0m \u001b[0mlist_rows\u001b[0m \u001b[1;33m=\u001b[0m \u001b[1;33m[\u001b[0m\u001b[1;33m]\u001b[0m\u001b[1;33m\u001b[0m\u001b[1;33m\u001b[0m\u001b[0m\n\u001b[0;32m     28\u001b[0m \u001b[1;32mfor\u001b[0m \u001b[0mrow\u001b[0m \u001b[1;32min\u001b[0m \u001b[0mtext\u001b[0m\u001b[1;33m:\u001b[0m\u001b[1;33m\u001b[0m\u001b[1;33m\u001b[0m\u001b[0m\n\u001b[1;32m---> 29\u001b[1;33m     \u001b[0mcells\u001b[0m \u001b[1;33m=\u001b[0m \u001b[0mrow\u001b[0m\u001b[1;33m.\u001b[0m\u001b[0mfind\u001b[0m\u001b[1;33m(\u001b[0m\u001b[1;34m\"script\"\u001b[0m\u001b[1;33m,\u001b[0m \u001b[0mstring\u001b[0m\u001b[1;33m=\u001b[0m\u001b[0mre\u001b[0m\u001b[1;33m.\u001b[0m\u001b[0mcompile\u001b[0m\u001b[1;33m(\u001b[0m\u001b[1;34m\"Ryan\"\u001b[0m\u001b[1;33m)\u001b[0m\u001b[1;33m)\u001b[0m\u001b[1;33m\u001b[0m\u001b[1;33m\u001b[0m\u001b[0m\n\u001b[0m\u001b[0;32m     30\u001b[0m     \u001b[0mstr_cells\u001b[0m \u001b[1;33m=\u001b[0m \u001b[0mstr\u001b[0m\u001b[1;33m(\u001b[0m\u001b[0mcells\u001b[0m\u001b[1;33m)\u001b[0m\u001b[1;33m\u001b[0m\u001b[1;33m\u001b[0m\u001b[0m\n\u001b[0;32m     31\u001b[0m     \u001b[0mclean\u001b[0m \u001b[1;33m=\u001b[0m \u001b[0mre\u001b[0m\u001b[1;33m.\u001b[0m\u001b[0mcompile\u001b[0m\u001b[1;33m(\u001b[0m\u001b[1;34m'<.*?>'\u001b[0m\u001b[1;33m,\u001b[0m\u001b[1;34m'[.*?]'\u001b[0m\u001b[1;33m)\u001b[0m\u001b[1;33m\u001b[0m\u001b[1;33m\u001b[0m\u001b[0m\n",
      "\u001b[1;31mTypeError\u001b[0m: find() takes no keyword arguments"
     ]
    }
   ],
   "source": [
    "from urllib.request import urlopen\n",
    "from bs4 import BeautifulSoup\n",
    "import time\n",
    "import pandas as pd\n",
    "import re\n",
    "\n",
    "url = \"https://play.google.com/store/apps/details?id=com.fluffyfairygames.idleminertycoon&gl=DE&showAllReviews=true\"\n",
    "html = urlopen(url)\n",
    "time.sleep(5)                                           # waits 5sec until next part is started\n",
    "data= html.read().decode(\"UTF-8\")                       # UTF-8 > character map\n",
    "soup = BeautifulSoup(data, \"html.parser\")\n",
    "\n",
    "#text=soup.find_all('div', attrs={'class':'UD7Dzf'})\n",
    "#print(data)\n",
    "\n",
    "with open('raw.html', 'w', encoding='UTF-8') as f:          # context file > everything happens within    zugriffsmodus w == write #Arguments that you do not specifically name are bound to their position in the brakets. They always have to stand before specificall named arguments\n",
    "    f.write(data)\n",
    "    \n",
    "#text=soup.find_all('script')\n",
    "text=soup.find(\"script\", string=re.compile(\"Ryan\"))         #This won´t work if enough people write comments and \"Ryan\" won´t be seen on the first page anymore\n",
    "\n",
    "print(text)\n",
    "\n",
    "#for comments in text:\n",
    " #   print(soup.get_text(comments))\n",
    " \n"
   ]
  },
  {
   "cell_type": "code",
   "execution_count": 2,
   "metadata": {},
   "outputs": [
    {
     "name": "stdout",
     "output_type": "stream",
     "text": [
      "[]\n"
     ]
    }
   ],
   "source": [
    "from urllib.request import urlopen\n",
    "from bs4 import BeautifulSoup\n",
    "import time\n",
    "#import dryscrape\n",
    "\n",
    "url = \"https://play.google.com/store/apps/details?id=com.fluffyfairygames.idleminertycoon&gl=DE&showAllReviews=true\"\n",
    "html = urlopen(url)\n",
    "time.sleep(5)                                           # waits 5sec until next part is started\n",
    "data= html.read().decode(\"UTF-8\")                       # UTF-8 > character map\n",
    "soup = BeautifulSoup(data, \"html.parser\")\n",
    "\n",
    "with open('raw2.html', 'w', encoding='UTF-8') as f:          # context file > everything happens within    zugriffsmodus w == write #Arguments that you do not specifically name are bound to their position in the brakets. They always have to stand before specificall named arguments\n",
    "    f.write(data)\n",
    "\n",
    "result = soup.find_all(lambda tag: tag.name == 'script' and \n",
    "                                   tag.get('nonce') == ['Ywd3ciS1xxauJ+mRZG9Swg'])\n",
    "print(result)"
   ]
  },
  {
   "cell_type": "code",
   "execution_count": 1,
   "metadata": {},
   "outputs": [
    {
     "ename": "SyntaxError",
     "evalue": "(unicode error) 'unicodeescape' codec can't decode bytes in position 2-3: truncated \\UXXXXXXXX escape (Temp/ipykernel_17156/2361306613.py, line 12)",
     "output_type": "error",
     "traceback": [
      "\u001b[1;36m  File \u001b[1;32m\"C:\\Users\\KRISTI~1\\AppData\\Local\\Temp/ipykernel_17156/2361306613.py\"\u001b[1;36m, line \u001b[1;32m12\u001b[0m\n\u001b[1;33m    driver = webdriver.Chrome(executable_path = 'C:\\Users\\KristinMoewes\\Documents\\Python\\Python')\u001b[0m\n\u001b[1;37m                                                                                                ^\u001b[0m\n\u001b[1;31mSyntaxError\u001b[0m\u001b[1;31m:\u001b[0m (unicode error) 'unicodeescape' codec can't decode bytes in position 2-3: truncated \\UXXXXXXXX escape\n"
     ]
    }
   ],
   "source": [
    "import urllib.request\n",
    "from bs4 import BeautifulSoup\n",
    "from selenium import webdriver\n",
    "import time\n",
    "import pandas as pd\n",
    "\n",
    "\n",
    "# specify the url\n",
    "urlpage = 'https://play.google.com/store/apps/details?id=com.fluffyfairygames.idleminertycoon&gl=DE&showAllReviews=true' \n",
    "print(urlpage)\n",
    "# run firefox webdriver from executable path of your choice\n",
    "driver = webdriver.Chrome(executable_path = 'C:\\Users\\KristinMoewes\\Documents\\Python\\Python')"
   ]
  },
  {
   "cell_type": "markdown",
   "metadata": {},
   "source": [
    "# test\n",
    "test"
   ]
  }
 ],
 "metadata": {
  "interpreter": {
   "hash": "f197955064c0845eafe0aea55f6aea45cff2c9a0ce3d20c408f685280f730e4a"
  },
  "kernelspec": {
   "display_name": "Python 3.10.0 64-bit ('env': venv)",
   "language": "python",
   "name": "python3"
  },
  "language_info": {
   "codemirror_mode": {
    "name": "ipython",
    "version": 3
   },
   "file_extension": ".py",
   "mimetype": "text/x-python",
   "name": "python",
   "nbconvert_exporter": "python",
   "pygments_lexer": "ipython3",
   "version": "3.10.0"
  },
  "orig_nbformat": 4
 },
 "nbformat": 4,
 "nbformat_minor": 2
}
